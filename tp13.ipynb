{
 "cells": [
  {
   "cell_type": "markdown",
   "id": "32165327",
   "metadata": {},
   "source": [
    ">Ouvrir le notebook dans Colab en modifiant le début de son adresse dans le navigateur :<br>\n",
    "il faut remplacer **github.com** par **githubtocolab.com**.<br>\n",
    "Une fois vos réponses apportées, le notebook devra être sauvegardé dans GitHub, dans le repository du TP :<br>\n",
    "*Fichier > Enregistrer une copie dans Github*<br>\n",
    "*Info-TSI-Vieljeux/tpx-votre_nom*<br>\n",
    "\n",
    "---"
   ]
  },
  {
   "cell_type": "markdown",
   "id": "940f89fc",
   "metadata": {
    "deletable": false,
    "editable": false,
    "nbgrader": {
     "cell_type": "markdown",
     "checksum": "9b76ab57d3e3d7a4b357b96bd55a7256",
     "grade": false,
     "grade_id": "cell-809deb961fba1a3e",
     "locked": true,
     "schema_version": 3,
     "solution": false,
     "task": false
    }
   },
   "source": [
    "# TP 13 : Algorithmes pour l'intelligence artificielle"
   ]
  },
  {
   "cell_type": "markdown",
   "id": "44ed69bc",
   "metadata": {
    "deletable": false,
    "editable": false,
    "nbgrader": {
     "cell_type": "markdown",
     "checksum": "f56ec7e3af09081406e20c669923a595",
     "grade": false,
     "grade_id": "cell-260dd9477d8088d3",
     "locked": true,
     "schema_version": 3,
     "solution": false,
     "task": false
    }
   },
   "source": [
    "## Algorithme des k plus proches voisins"
   ]
  },
  {
   "cell_type": "markdown",
   "id": "53b1cc84",
   "metadata": {
    "deletable": false,
    "editable": false,
    "nbgrader": {
     "cell_type": "markdown",
     "checksum": "5c5870c7e3844e20ee768a1a8ede9817",
     "grade": false,
     "grade_id": "cell-e70aa614afa65510",
     "locked": true,
     "schema_version": 3,
     "solution": false,
     "task": false
    }
   },
   "source": [
    "### Interpolation"
   ]
  },
  {
   "cell_type": "code",
   "execution_count": null,
   "id": "3ddfab8a",
   "metadata": {},
   "outputs": [],
   "source": [
    "import matplotlib.pyplot as plt\n",
    "from matplotlib import rcParams\n",
    "plt.style.use('seaborn')\n",
    "params = {'figure.figsize': (15, 10),\n",
    "          'axes.titlesize': 'xx-large',\n",
    "          'figure.dpi' : 100}\n",
    "plt.rcParams.update(params)\n",
    "# Pour une raison bizarre, il faut réexécuter cette cellule après avoir afficher le premier plot pour que le paramètre de taille d'image soit pris en compte"
   ]
  },
  {
   "cell_type": "markdown",
   "id": "c890fcab",
   "metadata": {
    "deletable": false,
    "editable": false,
    "nbgrader": {
     "cell_type": "markdown",
     "checksum": "f71daeeb28271aafa6633b237e985f3a",
     "grade": false,
     "grade_id": "cell-077cd0992982e601",
     "locked": true,
     "schema_version": 3,
     "solution": false,
     "task": false
    }
   },
   "source": [
    "Construisons un jeu de données entâché de bruit :"
   ]
  },
  {
   "cell_type": "code",
   "execution_count": null,
   "id": "cd9cc991",
   "metadata": {},
   "outputs": [],
   "source": [
    "from random import random\n",
    "from math import pi,cos\n",
    "\n",
    "X = []\n",
    "Y = []\n",
    "N = 400\n",
    "\n",
    "for i in range(N) :\n",
    "    x = pi*random()-pi/2\n",
    "    X.append(x)\n",
    "    y = cos(x+0.1*(random()-0.5))+0.2*(random()-0.5)\n",
    "    Y.append(y)\n",
    "Pts = list(zip(X,Y))"
   ]
  },
  {
   "cell_type": "code",
   "execution_count": null,
   "id": "3680905b",
   "metadata": {},
   "outputs": [],
   "source": [
    "plt.scatter(*zip(*Pts)) # zip(*zip(L1,L2)) redonne un objet composé de L1 et L2 et * le déballe"
   ]
  },
  {
   "cell_type": "markdown",
   "id": "562b47ac",
   "metadata": {
    "deletable": false,
    "editable": false,
    "nbgrader": {
     "cell_type": "markdown",
     "checksum": "4c80ee57b4aae5fe81294e6c2633bb1f",
     "grade": false,
     "grade_id": "cell-e858aa7e583c0577",
     "locked": true,
     "schema_version": 3,
     "solution": false,
     "task": false
    }
   },
   "source": [
    "Mettez maintenant au point une fonction `KNN_interp` ayant pour paramètres le nombre de voisins à considérer $k$, les données d'apprentissage sous la forme d'une liste et l'abscisse de la nouvelle donnée dont on cherche l'ordonnée.<br>\n",
    "La fonction retourne l'ordonnée de la nouvelle donnée en prenant la moyenne des $k$ ordonnées les plus proches.<br>\n",
    "Vous pourrez utiliser la méthode native `sort` qui trie en place une liste `L` (la liste triée s'obtient grâce à `L.sort()`)."
   ]
  },
  {
   "cell_type": "code",
   "execution_count": null,
   "id": "e071d966",
   "metadata": {
    "deletable": false,
    "nbgrader": {
     "cell_type": "code",
     "checksum": "d2bac34ee7982fc30fd7e4f8d703a0d3",
     "grade": false,
     "grade_id": "cell-36b41911215c9938",
     "locked": false,
     "schema_version": 3,
     "solution": true,
     "task": false
    }
   },
   "outputs": [],
   "source": [
    "def KNN_interp(x: float, k: int, Pts: list) -> float:\n",
    "    \"\"\"\n",
    "    préconditions : Pts est une liste de tuples contenant les coordonnées (x,y) des points d'entraînement\n",
    "    postcondition : la fonction retourne la moyenne des ordonnées des k points dont l'abscisse est la plus proche de x\n",
    "    \"\"\"\n",
    "    # VOTRE CODE"
   ]
  },
  {
   "cell_type": "code",
   "execution_count": null,
   "id": "0678f629",
   "metadata": {
    "deletable": false,
    "editable": false,
    "nbgrader": {
     "cell_type": "code",
     "checksum": "6278dac816e13eae33eb891602e0c61c",
     "grade": true,
     "grade_id": "cell-9ff3879a606268da",
     "locked": true,
     "points": 1,
     "schema_version": 3,
     "solution": false,
     "task": false
    }
   },
   "outputs": [],
   "source": [
    "# Cellule d'évaluation, ne pas modifier"
   ]
  },
  {
   "cell_type": "code",
   "execution_count": null,
   "id": "7e00ecfe",
   "metadata": {},
   "outputs": [],
   "source": [
    "fig, axs = plt.subplots(2, 2)\n",
    "K = [1,10,20,200]\n",
    "N = 100\n",
    "X = [-pi/2+pi/N*i for i in range(N)]\n",
    "i = 0\n",
    "for k in K :\n",
    "    Y = []\n",
    "    for x in X :\n",
    "        Y.append(KNN_interp(x,k,Pts))\n",
    "    axs[i//2,i%2].plot(X,Y,c='r',label=f'k = {k}')\n",
    "    axs[i//2,i%2].scatter(*zip(*Pts))\n",
    "    axs[i//2,i%2].legend(fontsize = 15)\n",
    "    i += 1\n",
    "plt.tight_layout()"
   ]
  },
  {
   "cell_type": "markdown",
   "id": "50a13319",
   "metadata": {},
   "source": [
    "### Classification"
   ]
  },
  {
   "cell_type": "markdown",
   "id": "bbcaef86",
   "metadata": {
    "deletable": false,
    "editable": false,
    "nbgrader": {
     "cell_type": "markdown",
     "checksum": "d86bcebabc2880e9701c46a9b4be3535",
     "grade": false,
     "grade_id": "cell-e49390acf9ffcd6b",
     "locked": true,
     "schema_version": 3,
     "solution": false,
     "task": false
    }
   },
   "source": [
    "La grande majorité du temps, lorsque l'on parle de la distance entre deux points, on sous-entend la **distance euclidienne**. Mais ce n'est pas la seule définition possible de la distance.<br>\n",
    "Dans le cas d'un monde quadrillé comme les rues des villes américaines, divisées par blocs, la distance de Manhattan est plus appropriée.<br>"
   ]
  },
  {
   "cell_type": "markdown",
   "id": "058700d2",
   "metadata": {
    "deletable": false,
    "editable": false,
    "nbgrader": {
     "cell_type": "markdown",
     "checksum": "2608dd0da34855b3415ecc79c20dd36b",
     "grade": false,
     "grade_id": "cell-cecec6f1c56fe5fa",
     "locked": true,
     "schema_version": 3,
     "solution": false,
     "task": false
    }
   },
   "source": [
    "- Distance euclidienne $d_E(x,y)$ entre le points $x = (x_1,x_2,\\ldots,x_n)$ et le points $y = (y_1,y_2,\\ldots,y_n)$&nbsp;:\n",
    "$$d_E(x,y) = \\sqrt{(y_1-x_1)^2+(y_2-x_2)^2+\\cdots+(y_n-x_n)^2}$$\n",
    "- Distance de Manhattan $d_M(x,y)$ entre le points $x = (x_1,x_2,\\ldots,x_n)$ et le points $y = (y_1,y_2,\\ldots,y_n)$&nbsp;:\n",
    "$$d_M(x,y) = |y_1-x_1|+|y_2-x_2|+\\cdots+|y_n-x_n|$$"
   ]
  },
  {
   "cell_type": "markdown",
   "id": "7ffd222f",
   "metadata": {},
   "source": [
    "![](https://info-tsi-vieljeux.github.io/exomanhat.png)"
   ]
  },
  {
   "cell_type": "markdown",
   "id": "8d12804c",
   "metadata": {
    "deletable": false,
    "editable": false,
    "nbgrader": {
     "cell_type": "markdown",
     "checksum": "b53d34691a24433afaf7706d9d127111",
     "grade": false,
     "grade_id": "cell-ee0a692584da7ebe",
     "locked": true,
     "schema_version": 3,
     "solution": false,
     "task": false
    }
   },
   "source": [
    "Que vaut la distance euclidienne et la distance de Manhattan entre $A$ et $B$ dans la figure ci-dessus ? "
   ]
  },
  {
   "cell_type": "code",
   "execution_count": null,
   "id": "c7015076",
   "metadata": {},
   "outputs": [],
   "source": [
    "# Vous affecterez aux variable dE et dM la valeur correspondante sous la forme d'un entier ou d'un flottant :\n",
    "dE = 0 # Distance euclidienne\n",
    "dM = 0 # Distance de Manhattan"
   ]
  },
  {
   "cell_type": "code",
   "execution_count": null,
   "id": "ba8290d4",
   "metadata": {
    "deletable": false,
    "editable": false,
    "nbgrader": {
     "cell_type": "code",
     "checksum": "00de5bb4d0855ccbf6daffa99bd6f3f9",
     "grade": true,
     "grade_id": "cell-e1385c6e3c12f6d0",
     "locked": true,
     "points": 1,
     "schema_version": 3,
     "solution": false,
     "task": false
    }
   },
   "outputs": [],
   "source": [
    "# Cellule d'évaluation, ne pas modifier"
   ]
  },
  {
   "cell_type": "markdown",
   "id": "e8295f7a",
   "metadata": {
    "deletable": false,
    "editable": false,
    "nbgrader": {
     "cell_type": "markdown",
     "checksum": "974528939558cd4021bca65db9e82abc",
     "grade": false,
     "grade_id": "cell-f38b2be0c100bd13",
     "locked": true,
     "schema_version": 3,
     "solution": false,
     "task": false
    }
   },
   "source": [
    "Existe-t-il plusieurs chemins différents ayant la même distance euclidienne ?"
   ]
  },
  {
   "cell_type": "code",
   "execution_count": null,
   "id": "b4464d8b",
   "metadata": {},
   "outputs": [],
   "source": [
    "# Vous affecterez à la variable rep1 la valeur 'OUI' ou 'NON' :\n",
    "rep1 = 'IDK'"
   ]
  },
  {
   "cell_type": "markdown",
   "id": "0effa938",
   "metadata": {
    "deletable": false,
    "editable": false,
    "nbgrader": {
     "cell_type": "markdown",
     "checksum": "0874a75a8a3cbb89eb260593ffcd88c3",
     "grade": false,
     "grade_id": "cell-a0f018c81b6a10f1",
     "locked": true,
     "schema_version": 3,
     "solution": false,
     "task": false
    }
   },
   "source": [
    "Existe-t-il plusieurs chemins différents ayant la même distance de Manhattan ?"
   ]
  },
  {
   "cell_type": "code",
   "execution_count": null,
   "id": "de857fab",
   "metadata": {},
   "outputs": [],
   "source": [
    "# Vous affecterez à la variable rep2 la valeur 'OUI' ou 'NON' :\n",
    "rep2 = 'IDK'"
   ]
  },
  {
   "cell_type": "code",
   "execution_count": null,
   "id": "dac1290b",
   "metadata": {
    "deletable": false,
    "editable": false,
    "nbgrader": {
     "cell_type": "code",
     "checksum": "b858f16bd99eaa4c81cd18a61aa53ad0",
     "grade": true,
     "grade_id": "cell-7cda484f94a696d7",
     "locked": true,
     "points": 1,
     "schema_version": 3,
     "solution": false,
     "task": false
    }
   },
   "outputs": [],
   "source": [
    "# Cellule d'évaluation, ne pas modifier"
   ]
  },
  {
   "cell_type": "markdown",
   "id": "a5a2f9a2",
   "metadata": {
    "deletable": false,
    "editable": false,
    "nbgrader": {
     "cell_type": "markdown",
     "checksum": "4682555f7c2aa612bcf74d911b703fa6",
     "grade": false,
     "grade_id": "cell-de55759a739eab16",
     "locked": true,
     "schema_version": 3,
     "solution": false,
     "task": false
    }
   },
   "source": [
    "On utilisera dans la suite la distance euclidienne."
   ]
  },
  {
   "cell_type": "markdown",
   "id": "e89c4c60",
   "metadata": {},
   "source": [
    "Construisez une fonction `dist` prenant en paramètres les coordonnées d'un point $x$ et une liste d'autres coordonnées de points et qui retourne la liste des distances entre $x$ et les $n$ autres points.<br>\n",
    "Vous assurerez par un `assert` que tous les points ont bien le même nombre de coordonnées."
   ]
  },
  {
   "cell_type": "code",
   "execution_count": null,
   "id": "67f3b2d1",
   "metadata": {
    "deletable": false,
    "nbgrader": {
     "cell_type": "code",
     "checksum": "69b6d3f215b76419fabf90cd21da331c",
     "grade": false,
     "grade_id": "cell-81510264e0d86fad",
     "locked": false,
     "schema_version": 3,
     "solution": true,
     "task": false
    }
   },
   "outputs": [],
   "source": [
    "def dist(x: list, Pts: list) -> list:\n",
    "    \"\"\"\n",
    "    préconditions : x contient les coordonnées d'un point\n",
    "                    Pts est une liste de tuples ou chaque tuple contient les coordonnées d'un point\n",
    "                    tous les points doivent avoir le même nombre de coordonnées\n",
    "    postcondition : la fonction doit retourner la liste des distances entre le points x et chacun des points de la liste Pts.\n",
    "    \"\"\"\n",
    "    # VOTRE CODE"
   ]
  },
  {
   "cell_type": "code",
   "execution_count": null,
   "id": "de45ad4c",
   "metadata": {
    "deletable": false,
    "editable": false,
    "nbgrader": {
     "cell_type": "code",
     "checksum": "6fe29be5fc339895d95f42050075af0a",
     "grade": true,
     "grade_id": "cell-767ee68cb4d08630",
     "locked": true,
     "points": 1,
     "schema_version": 3,
     "solution": false,
     "task": false
    }
   },
   "outputs": [],
   "source": [
    "# Cellule d'évaluation, ne pas modifier"
   ]
  },
  {
   "cell_type": "markdown",
   "id": "4206df0d",
   "metadata": {
    "deletable": false,
    "editable": false,
    "nbgrader": {
     "cell_type": "markdown",
     "checksum": "eb8b16e3f85a1a7535003d8399e796aa",
     "grade": false,
     "grade_id": "cell-72e4da4404cbafb0",
     "locked": true,
     "schema_version": 3,
     "solution": false,
     "task": false
    }
   },
   "source": [
    "On va se servir d'un jeu de données célèbre pour tester l'algorithme KNN&nbsp;: un extrait de la MNIST database contenant des images carrées (8 pixels sur 8 pixels) de chiffres écrits à la main, accompagnés de leur étiquette (le chiffre sensé être représenté sur l'image)."
   ]
  },
  {
   "cell_type": "code",
   "execution_count": null,
   "id": "84ca7c74",
   "metadata": {},
   "outputs": [],
   "source": [
    "from sklearn.datasets import load_digits\n",
    "digits = load_digits()\n",
    "n_samples = len(digits.images)\n",
    "data = digits.images.reshape((n_samples, -1)).astype(int)\n",
    "data = list(map(list,data))\n",
    "labels = list(digits.target)\n",
    "len(data)"
   ]
  },
  {
   "cell_type": "markdown",
   "id": "da185fb8",
   "metadata": {},
   "source": [
    "Chacune des images a été applatie, c'est-à-dire qu'on les a réduites à une liste unidimensionnelle de 64 entiers entre 0 et 255 (les pixels sont ici codés par un seul octet car pas de couleur).<br>\n",
    "`data` contient une liste de 1797 images qui sont donc chacune une liste de 64 entiers.<br>\n",
    "`labels` contient les étiquettes correspondantes (dans le même ordre).<br>"
   ]
  },
  {
   "cell_type": "markdown",
   "id": "b5b19e3c",
   "metadata": {},
   "source": [
    "Construisez une fonction capable de transformer une liste de 64 valeurs en une matrice $8\\times 8$&nbsp;:"
   ]
  },
  {
   "cell_type": "code",
   "execution_count": null,
   "id": "bbab5be3",
   "metadata": {
    "deletable": false,
    "nbgrader": {
     "cell_type": "code",
     "checksum": "6aa9ec8fb7769d7b5cc9fb73f5c21d88",
     "grade": false,
     "grade_id": "cell-2dcaec42cf850f92",
     "locked": false,
     "schema_version": 3,
     "solution": true,
     "task": false
    }
   },
   "outputs": [],
   "source": [
    "def lignetomatrice(liste64: list) -> list:\n",
    "    \"\"\"\n",
    "    posctconditions : la liste retournée doit être de dimension 2 et de format 8*8\n",
    "    \"\"\"\n",
    "    # VOTRE CODE"
   ]
  },
  {
   "cell_type": "code",
   "execution_count": null,
   "id": "3443c8c8",
   "metadata": {
    "deletable": false,
    "editable": false,
    "nbgrader": {
     "cell_type": "code",
     "checksum": "f89f62665b8dd215927de0a384665d41",
     "grade": true,
     "grade_id": "cell-c7a3ff8f62d85550",
     "locked": true,
     "points": 1,
     "schema_version": 3,
     "solution": false,
     "task": false
    }
   },
   "outputs": [],
   "source": [
    "# Cellule d'évaluation, ne pas modifier"
   ]
  },
  {
   "cell_type": "markdown",
   "id": "8c68fd4c",
   "metadata": {
    "deletable": false,
    "editable": false,
    "nbgrader": {
     "cell_type": "markdown",
     "checksum": "ef56bd67468082a806b03fd54f8aa862",
     "grade": false,
     "grade_id": "cell-ab56130d54afbf76",
     "locked": true,
     "schema_version": 3,
     "solution": false,
     "task": false
    }
   },
   "source": [
    "\n",
    "Visualisons quelques unes des images grâce aux lignes suivantes et ajoutons le label comme titre à l'image&nbsp;:"
   ]
  },
  {
   "cell_type": "code",
   "execution_count": null,
   "id": "143a55ec",
   "metadata": {},
   "outputs": [],
   "source": [
    "fig, axs = plt.subplots(2, 5)\n",
    "i = 0\n",
    "for ax in axs.flat :\n",
    "    image64 = data[i]\n",
    "    image88 = lignetomatrice(image64)\n",
    "    ax.imshow(image88, interpolation='nearest', cmap='Greys')\n",
    "    ax.set_title(f'{labels[i]}')\n",
    "    ax.axis('off')\n",
    "    i += 1\n",
    "plt.tight_layout()"
   ]
  },
  {
   "cell_type": "markdown",
   "id": "c6174582",
   "metadata": {
    "deletable": false,
    "editable": false,
    "nbgrader": {
     "cell_type": "markdown",
     "checksum": "9b8b7d455b3cecaf8a33f6f530530955",
     "grade": false,
     "grade_id": "cell-bb174b9fb28f69c9",
     "locked": true,
     "schema_version": 3,
     "solution": false,
     "task": false
    }
   },
   "source": [
    "On va séparer le jeu de données en deux, une moitié pour l'apprentissage et l'autre pour tester."
   ]
  },
  {
   "cell_type": "code",
   "execution_count": null,
   "id": "8a17a386",
   "metadata": {},
   "outputs": [],
   "source": [
    "n = len(data)\n",
    "data_appr = data[:n//2]\n",
    "labels_appr = labels[:n//2]\n",
    "data_test = data[n//2:]\n",
    "labels_test = labels[n//2:]"
   ]
  },
  {
   "cell_type": "markdown",
   "id": "36ed0482",
   "metadata": {
    "deletable": false,
    "editable": false,
    "nbgrader": {
     "cell_type": "markdown",
     "checksum": "84a3050be177de90b2e42de7f6edf778",
     "grade": false,
     "grade_id": "cell-295120d94a7ac9bd",
     "locked": true,
     "schema_version": 3,
     "solution": false,
     "task": false
    }
   },
   "source": [
    "C'est le moment de construire une fonction `KNN_class` prenant en paramètres une image (liste de 64 flottants), l'entier $k$ du nombre de voisins à considérer, la liste des données servant à l'apprentissage et la liste des étiquettes (dans le même ordre), et qui retourne un entier entre 0 et 9 correspondant au **mode** (étiquette la plus représentée) des k plus proches voisins.<br>\n",
    "Votre fonction devra utiliser la fonction `dist`.<br>\n",
    "Pour calculer le mode d'une liste `L`, vous utiliserez l'expression suivante `stats.mode(L).mode[0]`.\n",
    "Aide : une liste de listes ou de tuples est triée en fonction du premier élément de la sous-liste ou du tuple."
   ]
  },
  {
   "cell_type": "code",
   "execution_count": null,
   "id": "3568cbe7",
   "metadata": {
    "deletable": false,
    "nbgrader": {
     "cell_type": "code",
     "checksum": "b50d4ff840e6edc80835a618ab84a94d",
     "grade": false,
     "grade_id": "cell-8c183ef561a42404",
     "locked": false,
     "schema_version": 3,
     "solution": true,
     "task": false
    }
   },
   "outputs": [],
   "source": [
    "from scipy import stats\n",
    "\n",
    "def KNN_class(X: list, k: int, Appr: list, Etiq: list) -> list:\n",
    "    \"\"\"\n",
    "    préconditions :  X est l'image dont on veut déterminer l'étiquette\n",
    "                     Appr est l'ensemble des données d'apprentissage, c'est une liste de liste,\n",
    "                     chacune de ces liste correspond à une image\n",
    "                     Etiq est une liste d'entiers correspondant aux étiquettes de chaque image.\n",
    "    postconditions : la fonction doit retourner l'étiquette la plus fréquente (mode) parmi les k images les plus proches\n",
    "    \"\"\"\n",
    "    # VOTRE CODE"
   ]
  },
  {
   "cell_type": "code",
   "execution_count": null,
   "id": "b3fe76f2",
   "metadata": {
    "deletable": false,
    "editable": false,
    "nbgrader": {
     "cell_type": "code",
     "checksum": "eb03a8cc0fdcb1404a3fad27387d4844",
     "grade": true,
     "grade_id": "cell-447be8c348b7dc5c",
     "locked": true,
     "points": 1,
     "schema_version": 3,
     "solution": false,
     "task": false
    }
   },
   "outputs": [],
   "source": [
    "# Cellule d'évaluation, ne pas modifier"
   ]
  },
  {
   "cell_type": "markdown",
   "id": "3802226b",
   "metadata": {
    "deletable": false,
    "editable": false,
    "nbgrader": {
     "cell_type": "markdown",
     "checksum": "57bea767c9c741ce2dee0a23e9214a67",
     "grade": false,
     "grade_id": "cell-5b0ff7f700c8ab3c",
     "locked": true,
     "schema_version": 3,
     "solution": false,
     "task": false
    }
   },
   "source": [
    "### Validation"
   ]
  },
  {
   "cell_type": "markdown",
   "id": "3b1ec827",
   "metadata": {
    "deletable": false,
    "editable": false,
    "nbgrader": {
     "cell_type": "markdown",
     "checksum": "1ff5c9a6462ba714e0203fc32f651f39",
     "grade": false,
     "grade_id": "cell-aacdfaa6265c0fad",
     "locked": true,
     "schema_version": 3,
     "solution": false,
     "task": false
    }
   },
   "source": [
    "La matrice de confusion va nous aider à évaluer notre algorithme de classification.<br>\n",
    "Commençons par construire une matrice carrée $10\\times 10$ dont les lignes correspondent aux étiquettes réelles et les colonnes aux étiquettes prédites.<br>\n",
    "Rq : la cellule met environ 25s à s'exécuter."
   ]
  },
  {
   "cell_type": "code",
   "execution_count": null,
   "id": "8f49c918",
   "metadata": {},
   "outputs": [],
   "source": [
    "M = [[0 for j in range(10)] for i in range(10)]\n",
    "k = 10\n",
    "for m in range(len(data_test)) :\n",
    "    i = labels_test[m] \n",
    "    j = KNN_class(data_test[m],k,data_appr,labels_appr)\n",
    "    M[i][j] += 1"
   ]
  },
  {
   "cell_type": "code",
   "execution_count": null,
   "id": "a3636320",
   "metadata": {},
   "outputs": [],
   "source": [
    "import seaborn as sns\n",
    "s = sns.heatmap(M,annot=True)\n",
    "s.set(xlabel='Chiffres prédits', ylabel='Chiffres réels')\n",
    "s.xaxis.tick_top()\n",
    "s.xaxis.set_label_position('top')"
   ]
  },
  {
   "cell_type": "markdown",
   "id": "d0df276c",
   "metadata": {
    "deletable": false,
    "editable": false,
    "nbgrader": {
     "cell_type": "markdown",
     "checksum": "e80775f24da6ffbc73d9c6801a1afcef",
     "grade": false,
     "grade_id": "cell-41b8f29ccfdb1f3d",
     "locked": true,
     "schema_version": 3,
     "solution": false,
     "task": false
    }
   },
   "source": [
    "À partir de cette matrice générale, construisez la matrice de confusion pour le chiffre 3. La matrice comprend les valeurs suivantes&nbsp;:\n",
    "- vrais positifs VP\n",
    "- vrais négatifs VN\n",
    "- faux positifs FP\n",
    "- faux négatifs FN"
   ]
  },
  {
   "cell_type": "code",
   "execution_count": null,
   "id": "2930b450",
   "metadata": {
    "deletable": false,
    "nbgrader": {
     "cell_type": "code",
     "checksum": "016af3395cffbebe8a5ade7d5f21757e",
     "grade": false,
     "grade_id": "cell-7786e9aaa262bda8",
     "locked": false,
     "schema_version": 3,
     "solution": true,
     "task": false
    }
   },
   "outputs": [],
   "source": [
    "# La matrice de confusion Mc3 devra avoir la forme [[VP,FP],[FN,VN]]\n",
    "# Les valeurs VP,FP,FN,VN sont des *entiers* correspondant aux effectifs dans chaque catégorie\n",
    "# Attention : vos calculs doivent pouvoir s'adapter automatiquement à une autre matrice M !!\n",
    "\n",
    "# VOTRE CODE\n",
    "\n",
    "Mc3 = [[VP,FN],[FP,VN]]"
   ]
  },
  {
   "cell_type": "code",
   "execution_count": null,
   "id": "34772218",
   "metadata": {
    "deletable": false,
    "editable": false,
    "nbgrader": {
     "cell_type": "code",
     "checksum": "e6148f0d22d7fa9433568dd4d70b6829",
     "grade": true,
     "grade_id": "cell-047a4060355c809a",
     "locked": true,
     "points": 1,
     "schema_version": 3,
     "solution": false,
     "task": false
    }
   },
   "outputs": [],
   "source": [
    "# Cellule d'évaluation, ne pas modifier"
   ]
  },
  {
   "cell_type": "code",
   "execution_count": null,
   "id": "1183736d",
   "metadata": {},
   "outputs": [],
   "source": [
    "n = len(data_test)\n",
    "labels = [[f'VP\\n{VP}\\n{VP/n:.1%}',f'FN\\n{FN}\\n{FN/n:.1%}'],[f'FP\\n{FP}\\n{FP/n:.1%}',f'VN\\n{VN}\\n{VN/n:.1%}']]\n",
    "x_axis_labels = ['Positif','Négatif']\n",
    "y_axis_labels = ['Positif','Négatif']\n",
    "s = sns.heatmap(Mc3,annot=labels,fmt='',annot_kws={\"size\": 18})\n",
    "s.set_xticklabels(x_axis_labels, fontsize=10)\n",
    "s.set_yticklabels(y_axis_labels, fontsize=10)\n",
    "s.xaxis.tick_top()\n",
    "s.xaxis.set_label_position('top')\n",
    "s.set_xlabel('Chiffres 3 prédits', fontsize=15)\n",
    "s.set_ylabel('Chiffres 3 réels', fontsize=15)"
   ]
  },
  {
   "cell_type": "markdown",
   "id": "4f3be992",
   "metadata": {
    "deletable": false,
    "editable": false,
    "nbgrader": {
     "cell_type": "markdown",
     "checksum": "769f7b7793d504776517197b2f8f5d90",
     "grade": false,
     "grade_id": "cell-f9c3e9eb10601469",
     "locked": true,
     "schema_version": 3,
     "solution": false,
     "task": false
    }
   },
   "source": [
    "Que peut-on dire des talents de classificateur de notre algorithme pour ce qui est du **chiffre 4** (attention, on ne parle plus du chiffre 3)&nbsp;:\n",
    "- a : il est plus sensible que précis (rappel > précision)\n",
    "- b : il est plus précis que sensible (précision > rappel)"
   ]
  },
  {
   "cell_type": "code",
   "execution_count": null,
   "id": "5a373906",
   "metadata": {},
   "outputs": [],
   "source": [
    "# Affectez à la variable val1 la réponse choisie, soit 'a', soit 'b' :\n",
    "val1 = 'c'"
   ]
  },
  {
   "cell_type": "code",
   "execution_count": null,
   "id": "554543fc",
   "metadata": {
    "deletable": false,
    "editable": false,
    "nbgrader": {
     "cell_type": "code",
     "checksum": "57a87cab382a49a08f9301eaf4adbee1",
     "grade": true,
     "grade_id": "cell-d376e3f878264a3a",
     "locked": true,
     "points": 1,
     "schema_version": 3,
     "solution": false,
     "task": false
    }
   },
   "outputs": [],
   "source": [
    "# Cellule d'évaluation, ne pas modifier"
   ]
  },
  {
   "cell_type": "markdown",
   "id": "e8147f56",
   "metadata": {
    "deletable": false,
    "editable": false,
    "nbgrader": {
     "cell_type": "markdown",
     "checksum": "328a37c36cb91e2f7f1aab99139362db",
     "grade": false,
     "grade_id": "cell-1cfc46b1ec03490b",
     "locked": true,
     "schema_version": 3,
     "solution": false,
     "task": false
    }
   },
   "source": [
    "Calculez enfin l'exactitude totale de l'algorithme sur les 899 images testées."
   ]
  },
  {
   "cell_type": "code",
   "execution_count": null,
   "id": "1397a46d",
   "metadata": {},
   "outputs": [],
   "source": [
    "# Affecter à la variable val2 la valeur calculée sous la forme d'un flottant\n",
    "val2 = 0.1"
   ]
  },
  {
   "cell_type": "code",
   "execution_count": null,
   "id": "6b2b60c0",
   "metadata": {
    "deletable": false,
    "editable": false,
    "nbgrader": {
     "cell_type": "code",
     "checksum": "0ab0151ce56e757dd520f7f40167f2a6",
     "grade": true,
     "grade_id": "cell-b6ddcad0bf95a8a2",
     "locked": true,
     "points": 1,
     "schema_version": 3,
     "solution": false,
     "task": false
    }
   },
   "outputs": [],
   "source": [
    "# Cellule d'évaluation, ne pas modifier"
   ]
  },
  {
   "cell_type": "markdown",
   "id": "8811f5e0",
   "metadata": {
    "deletable": false,
    "editable": false,
    "nbgrader": {
     "cell_type": "markdown",
     "checksum": "51089b744fe23df628a3cdf3122fd4fc",
     "grade": false,
     "grade_id": "cell-ee00831a4dd98d71",
     "locked": true,
     "schema_version": 3,
     "solution": false,
     "task": false
    }
   },
   "source": [
    "Des librairies dédiées contenant des algorithmes optimisés permettent de grandement accélérer les choses.<br>\n",
    "Ici, on va utiliser `scikit-learn` qui s's'appuie grandement sur `numpy`, lui-même principalement écrit en C."
   ]
  },
  {
   "cell_type": "markdown",
   "id": "d5b9023f",
   "metadata": {},
   "source": [
    "![](https://i.redd.it/40t7alhvlac91.png)"
   ]
  },
  {
   "cell_type": "code",
   "execution_count": null,
   "id": "f03fe9b9",
   "metadata": {},
   "outputs": [],
   "source": [
    "from sklearn.neighbors import KNeighborsClassifier\n",
    "\n",
    "model = KNeighborsClassifier(n_neighbors=10) # n_neighbors correspond à la valeur k\n",
    "model.fit(data_appr, labels_appr)\n",
    "predictions = model.predict(data_test) # predictions est la liste des prédictions pour chaque image dans data_test"
   ]
  },
  {
   "cell_type": "code",
   "execution_count": null,
   "id": "c832ab8a",
   "metadata": {},
   "outputs": [],
   "source": [
    "M = [[0 for j in range(10)] for i in range(10)]\n",
    "k = 10\n",
    "for m in range(len(data_test)) :\n",
    "    i = labels_test[m] \n",
    "    j = predictions[m]\n",
    "    M[i][j] += 1"
   ]
  },
  {
   "cell_type": "code",
   "execution_count": null,
   "id": "8e9cb0a4",
   "metadata": {},
   "outputs": [],
   "source": [
    "import seaborn as sns\n",
    "sns.heatmap(M,annot=True)"
   ]
  },
  {
   "cell_type": "markdown",
   "id": "43a04eb0",
   "metadata": {
    "deletable": false,
    "editable": false,
    "nbgrader": {
     "cell_type": "markdown",
     "checksum": "fb678c36e58765bb05ccd2ca119e78f9",
     "grade": false,
     "grade_id": "cell-c58581ea405ba6ac",
     "locked": true,
     "schema_version": 3,
     "solution": false,
     "task": false
    }
   },
   "source": [
    "Cherchons maintenant la valeur optimale de **k**, celle qui optimise l'exactitude.<br>\n",
    "Pour cela, et par souci de rapidité, on va utiliser l'implémentation de la librairie `scikit-learn` ci-dessus."
   ]
  },
  {
   "cell_type": "code",
   "execution_count": null,
   "id": "e9cf1f4e",
   "metadata": {},
   "outputs": [],
   "source": [
    "n = len(data_test)\n",
    "K = [i for i in range(1,50)]\n",
    "Exa = []\n",
    "for k in range(1,50) :\n",
    "    model = KNeighborsClassifier(n_neighbors=k) # n_neighbors correspond à la valeur k\n",
    "    model.fit(data_appr, labels_appr)\n",
    "    predictions = model.predict(data_test)\n",
    "    M = [[0 for j in range(10)] for i in range(10)]\n",
    "    for m in range(len(data_test)) :\n",
    "        i = labels_test[m] \n",
    "        j = predictions[m]\n",
    "        M[i][j] += 1\n",
    "    Exa.append(sum([M[i][i] for i in range(10)])/n)\n",
    "plt.plot(K,Exa)\n",
    "plt.xlabel('k')\n",
    "plt.ylabel('exactitude')"
   ]
  },
  {
   "cell_type": "code",
   "execution_count": null,
   "id": "24cd499d",
   "metadata": {},
   "outputs": [],
   "source": [
    "# affectez à la variable k_best l'entier correspondant à la valeur de k qui maximise l'exactitude :\n",
    "k_best = 10"
   ]
  },
  {
   "cell_type": "code",
   "execution_count": null,
   "id": "ccdf7b74",
   "metadata": {
    "deletable": false,
    "editable": false,
    "nbgrader": {
     "cell_type": "code",
     "checksum": "39a525c88029853556d25aaaff434313",
     "grade": true,
     "grade_id": "cell-e42e2b5f0a7d250d",
     "locked": true,
     "points": 1,
     "schema_version": 3,
     "solution": false,
     "task": false
    }
   },
   "outputs": [],
   "source": [
    "# Cellule d'évaluation, ne pas modifier"
   ]
  },
  {
   "cell_type": "markdown",
   "id": "bef91723",
   "metadata": {},
   "source": [
    "---"
   ]
  },
  {
   "cell_type": "markdown",
   "id": "667c1994",
   "metadata": {
    "deletable": false,
    "editable": false,
    "nbgrader": {
     "cell_type": "markdown",
     "checksum": "d25464157d5ea3c8057e0122d7130a59",
     "grade": false,
     "grade_id": "cell-cd481822b09b6f41",
     "locked": true,
     "schema_version": 3,
     "solution": false,
     "task": false
    }
   },
   "source": [
    "## Algorithme des k moyennes"
   ]
  },
  {
   "cell_type": "code",
   "execution_count": null,
   "id": "05aa0213",
   "metadata": {},
   "outputs": [],
   "source": [
    "from random import random\n",
    "import matplotlib.pyplot as plt\n",
    "plt.style.use('seaborn')\n",
    "params = {'figure.figsize': (15, 10),\n",
    "          'axes.titlesize': 'xx-large',\n",
    "          'figure.dpi' : 150}\n",
    "plt.rcParams.update(params)"
   ]
  },
  {
   "cell_type": "markdown",
   "id": "c263aeaf",
   "metadata": {
    "deletable": false,
    "editable": false,
    "nbgrader": {
     "cell_type": "markdown",
     "checksum": "f2ae64671d82102d4e2a4971e534c78d",
     "grade": false,
     "grade_id": "cell-f35104b6a9b907cc",
     "locked": true,
     "schema_version": 3,
     "solution": false,
     "task": false
    }
   },
   "source": [
    "Le code suivant implémente une version de l'algorithme des k-moyennes."
   ]
  },
  {
   "cell_type": "code",
   "execution_count": null,
   "id": "afc83909",
   "metadata": {},
   "outputs": [],
   "source": [
    "def kmoyennes(k: int, data: list) -> list:\n",
    "    n = len(data)\n",
    "    dim = len(data[0])\n",
    "    itermax = 100\n",
    "    itgenmax = 10\n",
    "    assert n > k, \"plus de clusters que de points de données...\"\n",
    "    itgen = 0\n",
    "    distancemin = float('inf')\n",
    "    sauvegarde_presente = False\n",
    "    while itgen < itgenmax :  \n",
    "        test = True\n",
    "        iteration = 1\n",
    "        # initialisation aléatoire des k centres\n",
    "        Centres = initialisation(k,data,dim)\n",
    "        # Copie des positions de ces centres pour tester plus loin s'ils ont bougé\n",
    "        Centres_old = []\n",
    "        for e in Centres :\n",
    "            Centres_old.append(e[:]) # on utilise le slicing pour créer un nouvel objet et pas seulement une référence\n",
    "        \n",
    "        # coeur de l'algorithme :\n",
    "        while test and (iteration < itermax) :\n",
    "            # calcul des distance entre un centre et tous les points de données, pour chaque centre\n",
    "            Dist = []\n",
    "            for i in range(k) :\n",
    "                Dist.append(dist(Centres[i],data))\n",
    "            # attribution des données au centre le plus proche\n",
    "            Clusters = attribution(k,data,Dist)\n",
    "            # déplacement du centre au milieu de son cluster\n",
    "            deplacement(k,Clusters,Centres,data)\n",
    "            # si les clusters n'ont pas bougé, test reste faux et on sort du while\n",
    "            test = False\n",
    "            for i in range(k) :\n",
    "                if max(dist(Centres[i],[Centres_old[i]])) > 1e-6*max(Dist[i]) :\n",
    "                    test = True\n",
    "            for i in range(k) :\n",
    "                Centres_old[i] = Centres[i][:]\n",
    "            iteration += 1\n",
    "        \n",
    "        # on recommence plusieurs fois en calculant à chaque fois l'inertie \n",
    "        # pour ne garder au final que l'itération avec l'inertie la plus petite\n",
    "        # le but est de se prémunir d'un blocage sur une solution suboptimale\n",
    "        itgen += 1\n",
    "        distance = evaluation(k,Clusters,Centres,data)\n",
    "        if distance < distancemin :\n",
    "            distancemin = distance\n",
    "            Clusters_save = Clusters[:] # meilleurs Clusters jusque-là\n",
    "            Centres_save = []\n",
    "            for i in range(k) :\n",
    "                Centres_save.append(Centres[i][:]) # meilleurs Centres jusque-là\n",
    "            sauvegarde_presente = True\n",
    "    if sauvegarde_presente :\n",
    "        Clusters = Clusters_save\n",
    "        Centres = Centres_save\n",
    "    return Clusters, Centres"
   ]
  },
  {
   "cell_type": "code",
   "execution_count": null,
   "id": "d2b774df",
   "metadata": {},
   "outputs": [],
   "source": [
    "def initialisation(k: int, data: list, dim : int) -> list:\n",
    "    Centres = []\n",
    "    Ampl =[]\n",
    "    for d in range(dim) :\n",
    "        MA = max([data[i][d] for i in range(len(data))])\n",
    "        MI = min([data[i][d] for i in range(len(data))])\n",
    "        Ampl.append((MI,MA))\n",
    "    for i in range(k) :\n",
    "        Centres.append([])\n",
    "        for d in range(dim) :\n",
    "            Centres[i].append(Ampl[d][0]+(Ampl[d][1]-Ampl[d][0])*random())\n",
    "    return Centres"
   ]
  },
  {
   "cell_type": "code",
   "execution_count": null,
   "id": "68ee8ca4",
   "metadata": {},
   "outputs": [],
   "source": [
    "def evaluation(k: int, Clusters: list, Centres: list, data: list) -> float:\n",
    "    n = len(data)\n",
    "    distance = 0\n",
    "    for i in range(k) :\n",
    "        data_clusters = [data[j] for j in range(n) if Clusters[j] == i]\n",
    "        distance += sum(dist(Centres[i],data_clusters))\n",
    "    return distance"
   ]
  },
  {
   "cell_type": "markdown",
   "id": "698efa81",
   "metadata": {
    "deletable": false,
    "editable": false,
    "nbgrader": {
     "cell_type": "markdown",
     "checksum": "2662837d9d0cd4fc8f3eed354c70d80c",
     "grade": false,
     "grade_id": "cell-6f39e15b24733a10",
     "locked": true,
     "schema_version": 3,
     "solution": false,
     "task": false
    }
   },
   "source": [
    "Il manque encore la définition de deux fonctions utilisées dans `kmoyennes`.<br>\n",
    "Commençons par écrire la fonction permettant d'attribuer un centre à chaque point de donnée."
   ]
  },
  {
   "cell_type": "code",
   "execution_count": null,
   "id": "12be943f",
   "metadata": {
    "deletable": false,
    "nbgrader": {
     "cell_type": "code",
     "checksum": "6c8a5fadc4b5e10035d044c41c766d12",
     "grade": false,
     "grade_id": "cell-3c8adac647a0ac27",
     "locked": false,
     "schema_version": 3,
     "solution": true,
     "task": false
    }
   },
   "outputs": [],
   "source": [
    "def attribution(k: int, data: list, Dist: list) -> list:\n",
    "    \"\"\"\n",
    "    préconditions :  Dist est une liste à deux dimensions contenant k sous-listes\n",
    "                     chaque sous-liste contient les distances de chaque point de data à un des centres\n",
    "                     Une sous-liste correspond à un centre\n",
    "    postconditions : la fonction doit retourner (sous forme de liste) le numéro de cluster (de 0 à k-1) associé à chaque point de data\n",
    "                     Si le premier point appartient au cluster 1, le deuxième au cluster 3, le troisème au cluster 0,\n",
    "                     la liste Clusters commencera ainsi [1,3,0,...]\n",
    "    \"\"\"\n",
    "    # VOTRE CODE"
   ]
  },
  {
   "cell_type": "code",
   "execution_count": null,
   "id": "182b8faa",
   "metadata": {
    "deletable": false,
    "editable": false,
    "nbgrader": {
     "cell_type": "code",
     "checksum": "442e6efc0eb02e3324280236150a9b96",
     "grade": true,
     "grade_id": "cell-8131414800ccb2d4",
     "locked": true,
     "points": 1,
     "schema_version": 3,
     "solution": false,
     "task": false
    }
   },
   "outputs": [],
   "source": [
    "# Cellule d'évaluation, ne pas modifier"
   ]
  },
  {
   "cell_type": "markdown",
   "id": "fd91e102",
   "metadata": {},
   "source": [
    "Écrivons maintenant la fonction déplacement qui modifie en place la position des *k* centres."
   ]
  },
  {
   "cell_type": "code",
   "execution_count": null,
   "id": "ffb31df8",
   "metadata": {
    "deletable": false,
    "nbgrader": {
     "cell_type": "code",
     "checksum": "27058658161556bbaa46be0e24f601e0",
     "grade": false,
     "grade_id": "cell-cc9ad3e7ad6c6970",
     "locked": false,
     "schema_version": 3,
     "solution": true,
     "task": false
    }
   },
   "outputs": [],
   "source": [
    "def deplacement(k: int, Clusters: list, Centres: list, data: list) -> list:\n",
    "    \"\"\"\n",
    "    préconditions:   Clusters est une liste du numéro de cluster associé au point à la même position dans data\n",
    "                     Centres doit être mutable\n",
    "    postconditions : en sortie, les positions des centres sont mis à jour \n",
    "                     et correspondent aux barycentres des points qui leur sont attribués\n",
    "    \"\"\"\n",
    "    # VOTRE CODE"
   ]
  },
  {
   "cell_type": "code",
   "execution_count": null,
   "id": "9cd6f409",
   "metadata": {
    "deletable": false,
    "editable": false,
    "nbgrader": {
     "cell_type": "code",
     "checksum": "d4692f3f4327fbfbf3975d926c36822b",
     "grade": true,
     "grade_id": "cell-221f2abc95ebcd6b",
     "locked": true,
     "points": 1,
     "schema_version": 3,
     "solution": false,
     "task": false
    }
   },
   "outputs": [],
   "source": [
    "# Cellule d'évaluation, ne pas modifier"
   ]
  },
  {
   "cell_type": "markdown",
   "id": "a8013677",
   "metadata": {
    "deletable": false,
    "editable": false,
    "nbgrader": {
     "cell_type": "markdown",
     "checksum": "077a7d5e3ba44b2a7867535893c3c901",
     "grade": false,
     "grade_id": "cell-e1e032bb6c8a6ea2",
     "locked": true,
     "schema_version": 3,
     "solution": false,
     "task": false
    }
   },
   "source": [
    "Testons l'algorithme sur des points dispersés artificiellement en 5 groupes."
   ]
  },
  {
   "cell_type": "code",
   "execution_count": null,
   "id": "2ed8e70f",
   "metadata": {},
   "outputs": [],
   "source": [
    "from random import random\n",
    "n = 10\n",
    "\n",
    "X1 = [-15+(random()-0.5)*15 for i in range(n)]\n",
    "Y1 = [8+(random()-0.5)*12 for i in range(n)]\n",
    "X2 = [0+(random()-0.5)*12 for i in range(n)]\n",
    "Y2 = [-7+(random()-0.5)*15 for i in range(n)]\n",
    "X3 = [15+(random()-0.5)*12 for i in range(n)]\n",
    "Y3 = [10+(random()-0.5)*18 for i in range(n)]\n",
    "X4 = [30+(random()-0.5)*15 for i in range(n)]\n",
    "Y4 = [-10+(random()-0.5)*12 for i in range(n)]\n",
    "X5 = [45+(random()-0.5)*13 for i in range(n)]\n",
    "Y5 = [8+(random()-0.5)*12 for i in range(n)]\n",
    "data = list(zip(X1+X2+X3+X4+X5,Y1+Y2+Y3+Y4+Y5))\n",
    "\n",
    "fig,ax = plt.subplots()\n",
    "ax.axis('equal')\n",
    "ax.scatter(X1+X2+X3+X4+X5,Y1+Y2+Y3+Y4+Y5,s=100)\n",
    "ax.set_title(\"Les données\")"
   ]
  },
  {
   "cell_type": "code",
   "execution_count": null,
   "id": "7953b4d7",
   "metadata": {},
   "outputs": [],
   "source": [
    "fig,ax = plt.subplots()\n",
    "ax.axis('equal')\n",
    "k = 5\n",
    "clusters, centres = kmoyennes(k,data)\n",
    "Couleurs = [\"#1DB100\",\"#F8BA00\",\"#EF5FA7\",\"#00A89D\",\"#FF644E\"]\n",
    "for i in range(len(data)):\n",
    "    ax.scatter(*data[i],c=Couleurs[clusters[i]],s=100)\n",
    "for i in range(k) :\n",
    "    ax.scatter(*centres[i],c=Couleurs[i],s=200,marker='*')\n",
    "ax.set_title(\"Partition en 5 clusters grâce à k-moyennes\")"
   ]
  },
  {
   "cell_type": "markdown",
   "id": "506f91fa",
   "metadata": {
    "deletable": false,
    "editable": false,
    "nbgrader": {
     "cell_type": "markdown",
     "checksum": "02288795ffb89941fe1cac6857edbb3a",
     "grade": false,
     "grade_id": "cell-05348832bacb773d",
     "locked": true,
     "schema_version": 3,
     "solution": false,
     "task": false
    }
   },
   "source": [
    "Traçons la courbe représentant la somme des distances entre un centre et les points de son cluster en fonction de *k*."
   ]
  },
  {
   "cell_type": "code",
   "execution_count": null,
   "id": "3cfb7915",
   "metadata": {},
   "outputs": [],
   "source": [
    "K = [i for i in range(1,20)]\n",
    "V = []\n",
    "n = len(data)\n",
    "for k in K :\n",
    "    clusters, centres = kmoyennes(k,data)\n",
    "    v = evaluation(k,clusters,centres,data)\n",
    "    V.append(v)\n",
    "plt.xticks([k for k in K])\n",
    "plt.plot(K,V)\n",
    "plt.xlabel('k')\n",
    "plt.ylabel('distance')"
   ]
  },
  {
   "cell_type": "markdown",
   "id": "d3030017",
   "metadata": {
    "deletable": false,
    "editable": false,
    "nbgrader": {
     "cell_type": "markdown",
     "checksum": "7da145402a22eb4a6c4c4f6e2e3e14ea",
     "grade": false,
     "grade_id": "cell-3a629a6140eab137",
     "locked": true,
     "schema_version": 3,
     "solution": false,
     "task": false
    }
   },
   "source": [
    "Si vous passez la valeur de `itgenmax` à `1` dans le code de `kmoyennes`, on obtient une courbe bien moins monotone. Le vérifiez.<br>\n",
    "Voyez-vous pourquoi ?"
   ]
  },
  {
   "cell_type": "markdown",
   "id": "a9f0fea5",
   "metadata": {
    "deletable": false,
    "editable": false,
    "nbgrader": {
     "cell_type": "markdown",
     "checksum": "463446ef9d9b5290ee552cdb5de24e7e",
     "grade": false,
     "grade_id": "cell-4813b433822147b4",
     "locked": true,
     "schema_version": 3,
     "solution": false,
     "task": false
    }
   },
   "source": [
    "Familiarisons-nous maintenant avec l'implémentation de `scikit-learn` et vérifions qu'elle fait bien le même boulot (mais bien plus vite)."
   ]
  },
  {
   "cell_type": "code",
   "execution_count": null,
   "id": "f845fa78",
   "metadata": {},
   "outputs": [],
   "source": [
    "from sklearn.cluster import KMeans"
   ]
  },
  {
   "cell_type": "code",
   "execution_count": null,
   "id": "060fabba",
   "metadata": {},
   "outputs": [],
   "source": [
    "fig,ax = plt.subplots()\n",
    "ax.axis('equal')\n",
    "k = 5\n",
    "kmeans_model = KMeans(n_clusters = k)\n",
    "cluster_labels = kmeans_model.fit_predict(data) # donne la liste ordonnée du cluster auquel appartient chaque point de données\n",
    "centres = kmeans_model.cluster_centers_\n",
    "Couleurs = [\"#1DB100\",\"#F8BA00\",\"#EF5FA7\",\"#00A89D\",\"#FF644E\"]\n",
    "for i in range(len(data)) :\n",
    "    ax.scatter(*data[i],c=Couleurs[cluster_labels[i]],s=100)\n",
    "for i in range(k) :\n",
    "    ax.scatter(*centres[i],c=Couleurs[i],s=200,marker='*')"
   ]
  },
  {
   "cell_type": "markdown",
   "id": "c2e994c6",
   "metadata": {
    "deletable": false,
    "editable": false,
    "nbgrader": {
     "cell_type": "markdown",
     "checksum": "f7c6e3003a712d9f0d2ee42084d1eddd",
     "grade": false,
     "grade_id": "cell-bb11d2a868c5abc8",
     "locked": true,
     "schema_version": 3,
     "solution": false,
     "task": false
    }
   },
   "source": [
    "La grande popularité de Python aujourd'hui dans le monde scientifique et professionnel s'explique en grande partie par ses librairies. En peu de lignes, elles permettent d'obtenir très rapidement des résultats de bonne tenue."
   ]
  },
  {
   "cell_type": "code",
   "execution_count": null,
   "id": "64703869",
   "metadata": {},
   "outputs": [],
   "source": [
    "import seaborn as sns\n",
    "import pandas as pd\n",
    "import numpy as np\n",
    "\n",
    "n = 5000\n",
    "# Simulation des données\n",
    "x1 = np.random.normal(-4, 0.8, n)\n",
    "y1 = np.random.normal(-2, 1.2, n)\n",
    "x2 = np.random.normal(0, 0.9, n)\n",
    "y2 = np.random.normal(0, 0.9, n)\n",
    "x3 = np.random.normal(2, 1.2, n)\n",
    "y3 = np.random.normal(4, 0.5, n)\n",
    "x4 = np.random.normal(1.5, 0.3, n)\n",
    "y4 = np.random.normal(-6, 0.3, n)\n",
    "x5 = np.random.normal(3.5, 0.3, n)\n",
    "y5 = np.random.normal(-4, 0.4, n)\n",
    "data = list(zip(np.concatenate((x1,x2,x3,x4,x5)),np.concatenate((y1,y2,y3,y4,y5))))\n",
    "\n",
    "k = 5\n",
    "kmeans_model = KMeans(n_clusters = k)\n",
    "cluster_labels = kmeans_model.fit_predict(data)\n",
    "centres = kmeans_model.cluster_centers_\n",
    "df = pd.DataFrame(data,columns=['x','y'])\n",
    "df['cluster'] = cluster_labels\n",
    "sns.scatterplot(x='x',y='y',hue='cluster',data=df)"
   ]
  },
  {
   "cell_type": "code",
   "execution_count": null,
   "id": "bcb84b9b",
   "metadata": {},
   "outputs": [],
   "source": [
    "K = [i for i in range(1,20)]\n",
    "V = []\n",
    "n = len(data)\n",
    "for k in K :\n",
    "    kmeans_model = KMeans(n_clusters = k)\n",
    "    kmeans_model.fit_predict(data)\n",
    "    V.append(kmeans_model.inertia_)\n",
    "plt.xticks([k for k in K])\n",
    "plt.plot(K,V)\n",
    "plt.xlabel('k',fontsize=15)\n",
    "plt.ylabel('inertie',fontsize=15)"
   ]
  },
  {
   "cell_type": "markdown",
   "id": "4bb44d4c",
   "metadata": {
    "deletable": false,
    "editable": false,
    "nbgrader": {
     "cell_type": "markdown",
     "checksum": "d494304979a19665d34e585e5d0e0e4f",
     "grade": false,
     "grade_id": "cell-e8cd89502d0c48e1",
     "locked": true,
     "schema_version": 3,
     "solution": false,
     "task": false
    }
   },
   "source": [
    "Dans un TP du premier semestre, on s'était amusé à downgrader le nombre de couleurs d'une image en passant d'un codage 24 bits à 6 bits pour la profondeur des couleurs.<br>\n",
    "Utilisons k-moyennes pour faire un travail ressemblant, mais plus fin&nbsp;: on va chosir un nombre de couleurs et laisser k-moyennes trouver lui-même les couleurs les plus adaptées et créer le partitionnement.<br>\n",
    "Les couleurs vont être données par les coordonnées des *k* centres&nbsp;!\n",
    "\n",
    "Cette opération s'appelle **segmentation d'image** et il s'agit là plus précisément d'une segmentation par la couleur. C'est une technique utilisée en diagnostic médical ou pour l'analyse d'images satellites (pour déterminer, par exemple, la proportion de forêt dans une région). "
   ]
  },
  {
   "cell_type": "code",
   "execution_count": null,
   "id": "b7577069",
   "metadata": {},
   "outputs": [],
   "source": [
    "from PIL import Image\n",
    "import urllib.request \n",
    "from IPython.display import display \n",
    "import matplotlib.pyplot as plt\n",
    "import numpy as np\n",
    "\n",
    "urllib.request.urlretrieve('https://webb.nasa.gov/content/webbLaunch/assets/images/firstImages/image5-StarForming/STSCI-J-p22031a-1100px.jpg', 'webb')\n",
    "image_webb = np.array(Image.open('webb'))\n",
    "webb = Image.fromarray(image_webb)\n",
    "display(webb)\n",
    "h,l,c = image_webb.shape\n",
    "print(f'hauteur : {h} px ; largeur : {l} px')"
   ]
  },
  {
   "cell_type": "markdown",
   "id": "f4aa9f22",
   "metadata": {
    "deletable": false,
    "editable": false,
    "nbgrader": {
     "cell_type": "markdown",
     "checksum": "0e68c1f49890dd9c9f53545d4a1da165",
     "grade": false,
     "grade_id": "cell-2bc20acf2ee9e5d8",
     "locked": true,
     "schema_version": 3,
     "solution": false,
     "task": false
    }
   },
   "source": [
    "On transforme d'abord l'image bidimensionnelle en un tableau à une dimension contenant hauteur$\\times$largeur triplets. On a ainsi un long vecteur de points tridimensionnels.<br>\n",
    "Ensuite, on applique l'algorithme (celui de `scikit-learn` vu le nombre de points) et on récupère les centres.\n",
    "\n",
    "Rq : mon vieil ordinateur met environ une heure avec l'algo maison, alors que là, il faut un peu moins de 40&nbsp;s..."
   ]
  },
  {
   "cell_type": "code",
   "execution_count": null,
   "id": "9e3077a6",
   "metadata": {},
   "outputs": [],
   "source": [
    "image_1D = image_webb.reshape(h*l,c)\n",
    "k = 10\n",
    "kmeans_model = KMeans(n_clusters = k)\n",
    "cluster_labels = kmeans_model.fit_predict(image_1D)\n",
    "centres = kmeans_model.cluster_centers_\n",
    "print(centres)"
   ]
  },
  {
   "cell_type": "markdown",
   "id": "cc64efeb",
   "metadata": {
    "deletable": false,
    "editable": false,
    "nbgrader": {
     "cell_type": "markdown",
     "checksum": "d13339d844803adf121266054963367f",
     "grade": false,
     "grade_id": "cell-db4a929c2cbdc23d",
     "locked": true,
     "schema_version": 3,
     "solution": false,
     "task": false
    }
   },
   "source": [
    "Pour faire passer les coordonnées de ces centres pour des couleurs, on convertit les flottants en entier&nbsp;:"
   ]
  },
  {
   "cell_type": "code",
   "execution_count": null,
   "id": "1f6171c4",
   "metadata": {},
   "outputs": [],
   "source": [
    "couleurs = kmeans_model.cluster_centers_.round(0).astype(np.uint8)\n",
    "print(couleurs)"
   ]
  },
  {
   "cell_type": "markdown",
   "id": "04593a0c",
   "metadata": {
    "deletable": false,
    "editable": false,
    "nbgrader": {
     "cell_type": "markdown",
     "checksum": "f58294f52f97901f49e758759e29b18d",
     "grade": false,
     "grade_id": "cell-9363b0722bea7364",
     "locked": true,
     "schema_version": 3,
     "solution": false,
     "task": false
    }
   },
   "source": [
    "Plus qu'à former l'image finale. `numpy` permet de faire ça en une ligne..."
   ]
  },
  {
   "cell_type": "code",
   "execution_count": null,
   "id": "c5cc6c09",
   "metadata": {},
   "outputs": [],
   "source": [
    "image_webb_clust = np.reshape(couleurs[cluster_labels],(h,l,c))\n",
    "webbClus = Image.fromarray(image_webb_clust)\n",
    "display(webbClus)"
   ]
  },
  {
   "cell_type": "markdown",
   "id": "ffc0a515",
   "metadata": {
    "deletable": false,
    "editable": false,
    "nbgrader": {
     "cell_type": "markdown",
     "checksum": "72f604161312697bce05541ad8549a50",
     "grade": false,
     "grade_id": "cell-f66748f2ecafe36e",
     "locked": true,
     "schema_version": 3,
     "solution": false,
     "task": false
    }
   },
   "source": [
    "Vous allez faire le même travail sur la petite image suivante, mais sans utiliser `scikit-learn` (on reste avec notre lent `kmoyennes`) ni `numpy` (seulement des braves listes python)."
   ]
  },
  {
   "cell_type": "code",
   "execution_count": null,
   "id": "967959be",
   "metadata": {},
   "outputs": [],
   "source": [
    "image_2D = []\n",
    "for i in range(64) :\n",
    "    image_2D.append([])\n",
    "    for j in range(64) :\n",
    "        image_2D[i].append((min(255,64+(i+j)*2),255-i*3,255-j*3))\n",
    "plt.figure(figsize=(3,3))\n",
    "plt.imshow(image_2D)\n",
    "plt.axis('off')\n",
    "\n",
    "image_1D = [] \n",
    "for i in range(64) :\n",
    "    for j in range(64) :\n",
    "        image_1D.append(image_2D[i][j])"
   ]
  },
  {
   "cell_type": "markdown",
   "id": "a4fc8f68",
   "metadata": {},
   "source": [
    "Vous devez obtenir une liste bidimensionnelle contenant les valeurs des pixels de l'image segmentée en 8.<br>\n",
    "Vous appelerez cette liste `image_2D_seg4`.<br>\n",
    "À la suite de votre cellule réponse, vous pourrez tester votre liste en affichant l'image qu'elle contient. Si vous obtenez 8 partitions, c'est gagner (n'hésitez pas à relancer l'algo car il peut se bloquer sur un découpage suboptimal contenant moins de parties, il faut alors d'abord reconstruire l'image)."
   ]
  },
  {
   "cell_type": "code",
   "execution_count": null,
   "id": "dab9fdad",
   "metadata": {
    "deletable": false,
    "nbgrader": {
     "cell_type": "code",
     "checksum": "c0effbe185d2dcaad60145a7aef9881d",
     "grade": false,
     "grade_id": "cell-cae3d193ad9ad575",
     "locked": false,
     "schema_version": 3,
     "solution": true,
     "task": false
    }
   },
   "outputs": [],
   "source": [
    "# VOTRE CODE"
   ]
  },
  {
   "cell_type": "code",
   "execution_count": null,
   "id": "b305cedf",
   "metadata": {},
   "outputs": [],
   "source": [
    "plt.figure(figsize=(3,3))\n",
    "plt.imshow(image_2D_seg4)\n",
    "plt.axis('off')"
   ]
  },
  {
   "cell_type": "code",
   "execution_count": null,
   "id": "5c7ca7fa",
   "metadata": {
    "deletable": false,
    "editable": false,
    "nbgrader": {
     "cell_type": "code",
     "checksum": "6218dc87c514250ec999e41339cf3967",
     "grade": true,
     "grade_id": "cell-5c1bb0da685d4c2b",
     "locked": true,
     "points": 1,
     "schema_version": 3,
     "solution": false,
     "task": false
    }
   },
   "outputs": [],
   "source": [
    "# Cellule d'évaluation, ne pas modifier"
   ]
  },
  {
   "cell_type": "markdown",
   "id": "a7a44e82",
   "metadata": {},
   "source": [
    "---"
   ]
  },
  {
   "cell_type": "markdown",
   "id": "1a2b6f7f",
   "metadata": {},
   "source": [
    "## Jeu d'accessibilité à deux joueurs"
   ]
  },
  {
   "cell_type": "markdown",
   "id": "2d826bdb",
   "metadata": {},
   "source": [
    "La démonstration du cours sur les graphes bipartis donne une idée d'algorithme pour les détecter si le graphe est non orienté&nbsp;:\n",
    "- on explore un graphe en partant d'un sommet grâce au **parcours en largeur** qui progrese couche par couche,\n",
    "- on dresse un inventaire des distances entre le sommet de départ et les sommets explorés grâce à un dictionnaire, \n",
    "- à chaque ajout d'un sommet à la file, on enregistre sa distance dans le dictionnaire en ajoutant 1 à la distance de son prédécesseur.<br>\n",
    "\n",
    "Pour prouver qu'un graphe n'est pas biparti, il suffit de trouver un cycle de longueur impair. Or la présence d'un tel cycle impose de tomber sur un sommet déjà exploré avec la **même distance au sommet de départ** que son prédécesseur.\n",
    "\n",
    "Compléter alors la fonction suivante pour qu'elle retourne vrai si le graphe est biparti et faux sinon."
   ]
  },
  {
   "cell_type": "code",
   "execution_count": null,
   "id": "11432bdf",
   "metadata": {
    "deletable": false,
    "nbgrader": {
     "cell_type": "code",
     "checksum": "8947ced93cc312d9e5495961b5ef3a28",
     "grade": false,
     "grade_id": "cell-f2f45e52b9284b88",
     "locked": false,
     "schema_version": 3,
     "solution": true,
     "task": false
    }
   },
   "outputs": [],
   "source": [
    "from collections import deque\n",
    "\n",
    "def testBipartite(G,depart) :\n",
    "    \"\"\"\n",
    "    precondition :   le graphe G doit être non orienté\n",
    "    postconditions : le dictionnaire Vus dit si un sommet a été exploré ou non\n",
    "                     le dictionnaire Distance donne la distance de chaque sommet ajouté par rapport au sommet de départ\n",
    "                     la fonction retourne Vrai si on tombe sur un sommet déjà exploré \n",
    "                     dont la distance au sommet de départ est la même que celle de son prédécesseur\n",
    "                     et Faux si aucun tel cas n'est rencontré.\n",
    "    \"\"\"\n",
    "    Vus = {s : False for s in G}\n",
    "    Distance = {s : 0 for s in G}\n",
    "    file = deque()\n",
    "    file.append(depart)\n",
    "    # VOTRE CODE"
   ]
  },
  {
   "cell_type": "code",
   "execution_count": null,
   "id": "59277302",
   "metadata": {
    "deletable": false,
    "editable": false,
    "nbgrader": {
     "cell_type": "code",
     "checksum": "5b1042c572444872b65fca3300f84498",
     "grade": true,
     "grade_id": "cell-0ab3906b56cdc912",
     "locked": true,
     "points": 1,
     "schema_version": 3,
     "solution": false,
     "task": false
    }
   },
   "outputs": [],
   "source": [
    "# Cellule d'évaluation, ne pas modifier"
   ]
  },
  {
   "cell_type": "code",
   "execution_count": null,
   "id": "a4af1750",
   "metadata": {},
   "outputs": [],
   "source": [
    "# Deux graphes pour tester votre algorithme\n",
    "Ga = {'A': ['B','E'],\n",
    "      'B': ['A','C','D','F'],\n",
    "      'C': ['B'],\n",
    "      'D': ['B'],\n",
    "      'E': ['A','F'],\n",
    "      'F': ['B','E']\n",
    "     }\n",
    "\n",
    "Gb = {'A': ['B','E'],\n",
    "      'B': ['A','C','D','E','F'],\n",
    "      'C': ['B'],\n",
    "      'D': ['B'],\n",
    "      'E': ['A','B','F'],\n",
    "      'F': ['B','E']\n",
    "     }"
   ]
  },
  {
   "cell_type": "markdown",
   "id": "bce6ac2e",
   "metadata": {
    "deletable": false,
    "editable": false,
    "nbgrader": {
     "cell_type": "markdown",
     "checksum": "98701183a719ea3016ac9c608f14bcd9",
     "grade": false,
     "grade_id": "cell-a7dc6fc849b1e5e7",
     "locked": true,
     "schema_version": 3,
     "solution": false,
     "task": false
    }
   },
   "source": [
    "Le graphe suivant est-il bipati&nbsp;?"
   ]
  },
  {
   "cell_type": "markdown",
   "id": "ffae0f52",
   "metadata": {},
   "source": [
    "![](https://info-tsi-vieljeux.github.io/exojeu1.png)"
   ]
  },
  {
   "cell_type": "code",
   "execution_count": null,
   "id": "abf17af6",
   "metadata": {},
   "outputs": [],
   "source": [
    "# Affectez à la variable bip la chaine 'OUI' ou 'NON'\n",
    "\n",
    "bip = 'IDK'"
   ]
  },
  {
   "cell_type": "code",
   "execution_count": null,
   "id": "9a7d6940",
   "metadata": {
    "deletable": false,
    "editable": false,
    "nbgrader": {
     "cell_type": "code",
     "checksum": "bb513afed74eb8c9d9a5b9bd02150b45",
     "grade": true,
     "grade_id": "cell-e4365d59e07f8fd3",
     "locked": true,
     "points": 1,
     "schema_version": 3,
     "solution": false,
     "task": false
    }
   },
   "outputs": [],
   "source": [
    "# Cellule d'évaluation, ne pas modifier"
   ]
  },
  {
   "cell_type": "markdown",
   "id": "bcc40d75",
   "metadata": {
    "deletable": false,
    "editable": false,
    "nbgrader": {
     "cell_type": "markdown",
     "checksum": "1d3fee6c823dd9424037a629756bc1b5",
     "grade": false,
     "grade_id": "cell-0bf27b4c9fc77dcd",
     "locked": true,
     "schema_version": 3,
     "solution": false,
     "task": false
    }
   },
   "source": [
    "Revenons maintenant sur la [variante du jeu de Nim présenté dans le cours](https://info-tsi-vieljeux.github.io/semestre_3/ia/#une-des-nombreuses-variantes-du-jeu-de-nim).<br>\n",
    "Construire le graphe correspondant à un paquet de 10 allumettes au départ.<br>\n",
    "Vous appelerez ce graphe `G1`."
   ]
  },
  {
   "cell_type": "code",
   "execution_count": null,
   "id": "673033bc",
   "metadata": {
    "deletable": false,
    "nbgrader": {
     "cell_type": "code",
     "checksum": "8873338bb823cee91c260d87ef28804d",
     "grade": false,
     "grade_id": "cell-21bfa16374300052",
     "locked": false,
     "schema_version": 3,
     "solution": true,
     "task": false
    }
   },
   "outputs": [],
   "source": [
    "# VOTRE CODE"
   ]
  },
  {
   "cell_type": "code",
   "execution_count": null,
   "id": "1ef800ae",
   "metadata": {
    "deletable": false,
    "editable": false,
    "nbgrader": {
     "cell_type": "code",
     "checksum": "80740fae96eb9c58b8cfdf506917131c",
     "grade": true,
     "grade_id": "cell-63d2f89acc4e1de2",
     "locked": true,
     "points": 1,
     "schema_version": 3,
     "solution": false,
     "task": false
    }
   },
   "outputs": [],
   "source": [
    "# Cellule d'évaluation, ne pas modifier"
   ]
  },
  {
   "cell_type": "markdown",
   "id": "42d596e7",
   "metadata": {
    "deletable": false,
    "editable": false,
    "nbgrader": {
     "cell_type": "markdown",
     "checksum": "1907f750cd34d290e0c5a1f6c828666c",
     "grade": false,
     "grade_id": "cell-40e72e51f6aec8b1",
     "locked": true,
     "schema_version": 3,
     "solution": false,
     "task": false
    }
   },
   "source": [
    "Eve est représentée par les ronds bleus dans la représentation suivante."
   ]
  },
  {
   "cell_type": "code",
   "execution_count": null,
   "id": "556381da",
   "metadata": {},
   "outputs": [],
   "source": [
    "import networkx as nx\n",
    "import matplotlib.pyplot as plt"
   ]
  },
  {
   "cell_type": "code",
   "execution_count": null,
   "id": "ad89b884",
   "metadata": {},
   "outputs": [],
   "source": [
    "g = nx.DiGraph(G1)\n",
    "\n",
    "edge_colors = ['#0076BA' if e[0][2]==0 else '#CB297B' for e in g.edges]\n",
    "Eve_nodes = [s for s in g.nodes if s[2]==0]\n",
    "Adam_nodes = list(set(g.nodes) - set(Eve_nodes))\n",
    "Eve_edges = [e for e in g.edges if e[0][2]==0]\n",
    "Adam_edges = list(set(g.edges) - set(Eve_edges))\n",
    "\n",
    "pos = nx.spring_layout(g,k=1,iterations=5)\n",
    "shift = 0.06\n",
    "pos_higher = {k:(v[0],v[1]+shift) if v[1]>0 else (v[0],v[1]-shift*1.1) for k,v in pos.items()}\n",
    "\n",
    "fig, ax = plt.subplots(figsize=(15,10))\n",
    "nx.draw_networkx_nodes(g, pos, nodelist=Eve_nodes, node_color='#0076BA', node_shape='o', linewidths=0)\n",
    "nx.draw_networkx_nodes(g, pos, nodelist=Adam_nodes, node_color='#CB297B', node_shape='s', linewidths=0)\n",
    "nx.draw_networkx_edges(g, pos, edgelist=Eve_edges, edge_color='#0076BA', arrows=True, arrowsize=20, connectionstyle='arc3,rad=0.2')\n",
    "nx.draw_networkx_edges(g, pos, edgelist=Adam_edges, edge_color='#CB297B', arrows=True, arrowsize=20, connectionstyle='arc3,rad=0.2')\n",
    "nx.draw_networkx_labels(g, pos = pos_higher, font_color='#000000', font_size=10, font_weight='bold')\n",
    "ax.set_facecolor('w')\n",
    "ax.axis('off')\n",
    "plt.show()"
   ]
  },
  {
   "cell_type": "markdown",
   "id": "ec4cad49",
   "metadata": {},
   "source": [
    "Reprenons le code du cours visant à assembler l'attracteur du jeu pour Eve."
   ]
  },
  {
   "cell_type": "code",
   "execution_count": null,
   "id": "03e333c5",
   "metadata": {},
   "outputs": [],
   "source": [
    "def attracteur(G: dict, F: list) -> list:\n",
    "    \"\"\"\n",
    "    préconditions : G est est un graphe sous forme de liste d'adjacence implémentée par un dictionnaire\n",
    "                    F est la liste des sommets gagnants pour le joueur 1\n",
    "    postcondition : la fonction retourne l'attracteur de F pour le joueur 1 sous forme d'un dictionnaire\n",
    "                    dont les clés sont les sommets de G et les valeurs True ou False suivant que le sommet appartienne ou non à l'attracteur\n",
    "    \"\"\"\n",
    "    Pred = inverseGraphe(G)\n",
    "    n = {s:len(G[s]) for s in G}\n",
    "    Attr = {s:False for s in G}\n",
    "    for sommet in F :\n",
    "        Joueur1 = True\n",
    "        propage(sommet,Joueur1,Attr,Pred,n)\n",
    "    return Attr\n",
    "\n",
    "def propage(sommet,Joueur1,Attr,Pred,n) :\n",
    "    if Attr[sommet] :\n",
    "        return\n",
    "    Attr[sommet] = True\n",
    "    for s in Pred[sommet] :\n",
    "        n[s] -= 1\n",
    "        if Joueur1 or (n[s] == 0) :\n",
    "            propage(s,not Joueur1,Attr,Pred,n)"
   ]
  },
  {
   "cell_type": "markdown",
   "id": "17cbc830",
   "metadata": {
    "deletable": false,
    "editable": false,
    "nbgrader": {
     "cell_type": "markdown",
     "checksum": "7f0223ffbb417ee962adc3655874b212",
     "grade": false,
     "grade_id": "cell-41b967679a5f2cbc",
     "locked": true,
     "schema_version": 3,
     "solution": false,
     "task": false
    }
   },
   "source": [
    "Il manque la définition de la fonction `inverseGraphe` qui retourne la liste d'adjacence du graphe G dont on aurait inversé chacun des arcs.<br>\n",
    "À vous de jouer..."
   ]
  },
  {
   "cell_type": "code",
   "execution_count": null,
   "id": "453d0719",
   "metadata": {
    "deletable": false,
    "nbgrader": {
     "cell_type": "code",
     "checksum": "1bdb860edd044dd913d4e0453c31e980",
     "grade": false,
     "grade_id": "cell-34d9d875a3b825b1",
     "locked": false,
     "schema_version": 3,
     "solution": true,
     "task": false
    }
   },
   "outputs": [],
   "source": [
    "def inverseGraphe(G: dict) -> dict:\n",
    "    \"\"\"\n",
    "    précondition : G est la liste d'adjacence (sous forme de dictionnaire) d'un graphe orienté\n",
    "    \"\"\"\n",
    "    # VOTRE CODE"
   ]
  },
  {
   "cell_type": "code",
   "execution_count": null,
   "id": "106228d1",
   "metadata": {
    "deletable": false,
    "editable": false,
    "nbgrader": {
     "cell_type": "code",
     "checksum": "c0f7122274fe0552a95e3d89f4c86d17",
     "grade": true,
     "grade_id": "cell-0181af622cafd646",
     "locked": true,
     "points": 1,
     "schema_version": 3,
     "solution": false,
     "task": false
    }
   },
   "outputs": [],
   "source": [
    "# Cellule d'évaluation, ne pas modifier"
   ]
  },
  {
   "cell_type": "markdown",
   "id": "178aaa0c",
   "metadata": {
    "deletable": false,
    "editable": false,
    "nbgrader": {
     "cell_type": "markdown",
     "checksum": "4b22a800a2c4b6133ac1cdf98933997a",
     "grade": false,
     "grade_id": "cell-7df4988e2843330f",
     "locked": true,
     "schema_version": 3,
     "solution": false,
     "task": false
    }
   },
   "source": [
    "Fabriquons l'attracteur de `G1`."
   ]
  },
  {
   "cell_type": "code",
   "execution_count": null,
   "id": "5ebbaf76",
   "metadata": {},
   "outputs": [],
   "source": [
    "Attr = attracteur(G1,[(0,0,1)])"
   ]
  },
  {
   "cell_type": "markdown",
   "id": "fbdabae8",
   "metadata": {
    "deletable": false,
    "editable": false,
    "nbgrader": {
     "cell_type": "markdown",
     "checksum": "9e429797c9c4b34a102fe5b7a9730b50",
     "grade": false,
     "grade_id": "cell-039edac2425d2206",
     "locked": true,
     "schema_version": 3,
     "solution": false,
     "task": false
    }
   },
   "source": [
    "Dans la représentation ci-dessous, l'attracteur est en orange."
   ]
  },
  {
   "cell_type": "code",
   "execution_count": null,
   "id": "f5dda320",
   "metadata": {},
   "outputs": [],
   "source": [
    "g = nx.DiGraph(G1)\n",
    "\n",
    "Eve_nodes = [s for s in g.nodes if s[2]==0]\n",
    "Eve_Attr_nodes = [s for s in Eve_nodes if Attr[s]==True]\n",
    "Eve_piege_nodes = list(set(Eve_nodes) - set(Eve_Attr_nodes))\n",
    "\n",
    "Adam_nodes = list(set(g.nodes) - set(Eve_nodes))\n",
    "Adam_attr_nodes = [s for s in Adam_nodes if Attr[s]==True]\n",
    "Adam_piege_nodes = list(set(Adam_nodes) - set(Adam_attr_nodes))\n",
    "\n",
    "Attr_edges = [e for e in g.edges if Attr[e[0]]==True and Attr[e[1]]==True]\n",
    "Piege_edges = list(set(g.edges) - set(Attr_edges))\n",
    "\n",
    "fig, ax = plt.subplots(figsize=(15,10))\n",
    "nx.draw_networkx_nodes(g, pos, nodelist=Eve_piege_nodes, node_color='#56C1FF', node_shape='o', linewidths=0)\n",
    "nx.draw_networkx_nodes(g, pos, nodelist=Eve_Attr_nodes, node_color='#FF9300', node_shape='o', linewidths=0)\n",
    "nx.draw_networkx_nodes(g, pos, nodelist=Adam_piege_nodes, node_color='#56C1FF', node_shape='s', linewidths=0)\n",
    "nx.draw_networkx_nodes(g, pos, nodelist=Adam_attr_nodes, node_color='#FF9300', node_shape='s', linewidths=0)\n",
    "\n",
    "nx.draw_networkx_edges(g, pos, edgelist=Attr_edges, edge_color='#FF9300', arrows=True, arrowsize=20, connectionstyle='arc3,rad=0.2')\n",
    "nx.draw_networkx_edges(g, pos, edgelist=Piege_edges, edge_color='#56C1FF', arrows=True, arrowsize=20, connectionstyle='arc3,rad=0.2')\n",
    "nx.draw_networkx_labels(g, pos = pos_higher, font_color='#000000', font_size=10, font_weight='bold')\n",
    "\n",
    "ax.set_facecolor('w')\n",
    "ax.axis('off')\n",
    "plt.show()"
   ]
  },
  {
   "cell_type": "code",
   "execution_count": null,
   "id": "2b73d2d4",
   "metadata": {},
   "outputs": [],
   "source": [
    "def strategie(G,depart,F,attracteur) :\n",
    "    Joueur1 = True\n",
    "    if not attracteur[depart] :\n",
    "        print(\"Pas de stratégie gagnante possible pour le joueur1 depuis cet endroit :(\")\n",
    "        return False\n",
    "    S = depart\n",
    "    while S not in F :\n",
    "        if Joueur1 :\n",
    "            for s in G[S] :\n",
    "                if attracteur[s] :\n",
    "                    print(f\"Coup gagnant : {s}.\")\n",
    "                    S = s\n",
    "                    break\n",
    "        else :\n",
    "            print(\"Qu'a joué l'adversaire ?\")\n",
    "            for i,s in enumerate(G[S],1) :\n",
    "                print(f\"{i} : {s}\")\n",
    "            S = G[S][int(input(\"Choisir : \"))-1]\n",
    "        Joueur1 = not Joueur1\n",
    "    print(\"C'est gagné !\")"
   ]
  },
  {
   "cell_type": "markdown",
   "id": "d564b97c",
   "metadata": {
    "deletable": false,
    "editable": false,
    "nbgrader": {
     "cell_type": "markdown",
     "checksum": "1764eab5cca6938e741eb77a691fa9ce",
     "grade": false,
     "grade_id": "cell-997066aba083465f",
     "locked": true,
     "schema_version": 3,
     "solution": false,
     "task": false
    }
   },
   "source": [
    "En utilisant le programme ci-dessus, répondre à la question suivante&nbsp;:<br>\n",
    "si Adam joue (6,4,0) à son premier coup, sur quel sommet doit se déplacer Eve pour continuer à avoir l'avantage&nbsp;?"
   ]
  },
  {
   "cell_type": "code",
   "execution_count": null,
   "id": "aac36b78",
   "metadata": {},
   "outputs": [],
   "source": [
    "# Affectez à la variable pos_gagn le tuple adéquat\n",
    "pos_gagn = (0,0,0)"
   ]
  },
  {
   "cell_type": "code",
   "execution_count": null,
   "id": "611bcb52",
   "metadata": {
    "deletable": false,
    "editable": false,
    "nbgrader": {
     "cell_type": "code",
     "checksum": "a1fb39c1165b9abef1bd5d044beca165",
     "grade": true,
     "grade_id": "cell-9dada73f1d9c76d4",
     "locked": true,
     "points": 1,
     "schema_version": 3,
     "solution": false,
     "task": false
    }
   },
   "outputs": [],
   "source": [
    "# Cellule d'évaluation, ne pas modifier"
   ]
  },
  {
   "cell_type": "markdown",
   "id": "b32dcb60",
   "metadata": {
    "deletable": false,
    "editable": false,
    "nbgrader": {
     "cell_type": "markdown",
     "checksum": "d7a4ed7e0d31696d952124ef6f2f7a82",
     "grade": false,
     "grade_id": "cell-653f0c1f4ccb5155",
     "locked": true,
     "schema_version": 3,
     "solution": false,
     "task": false
    }
   },
   "source": [
    "Créez un graphe `G2` pour répondre à cette question&nbsp;:<br>\n",
    "La position de départ $(21,5,0)$ est-elle gagnante&nbsp;?"
   ]
  },
  {
   "cell_type": "code",
   "execution_count": null,
   "id": "6e526446",
   "metadata": {},
   "outputs": [],
   "source": [
    "# affectez à la variable posDepGagnante la chaîne de caractères 'OUI' ou 'NON'\n",
    "posDepGagnante = 'IDK'"
   ]
  },
  {
   "cell_type": "code",
   "execution_count": null,
   "id": "11c6b5c1",
   "metadata": {
    "deletable": false,
    "editable": false,
    "nbgrader": {
     "cell_type": "code",
     "checksum": "1cf4479cc88fbe6ac52ff4d65dea6822",
     "grade": true,
     "grade_id": "cell-f77c9d3da6888ed9",
     "locked": true,
     "points": 1,
     "schema_version": 3,
     "solution": false,
     "task": false
    }
   },
   "outputs": [],
   "source": [
    "# Cellule d'évaluation, ne pas modifier"
   ]
  },
  {
   "cell_type": "markdown",
   "id": "090a0a2a",
   "metadata": {
    "deletable": false,
    "editable": false,
    "nbgrader": {
     "cell_type": "markdown",
     "checksum": "7d4adb89767a4b81d83ab0ba766313cc",
     "grade": false,
     "grade_id": "cell-588376925cf90ecc",
     "locked": true,
     "schema_version": 3,
     "solution": false,
     "task": false
    }
   },
   "source": [
    "Rq : on peut montrer que le joueur 1 aura toujours une stratégie gagnante si la position de départ (le nombre initial d'allumettes) ne se trouve pas dans la suite de Fibonacci."
   ]
  },
  {
   "cell_type": "markdown",
   "id": "113d2fd9",
   "metadata": {
    "deletable": false,
    "editable": false,
    "nbgrader": {
     "cell_type": "markdown",
     "checksum": "a5c6460f28df37f7f4e65e4161086bfb",
     "grade": false,
     "grade_id": "cell-740d6b5789bdd311",
     "locked": true,
     "schema_version": 3,
     "solution": false,
     "task": false
    }
   },
   "source": [
    "Passons maintenant au vrai jeu de Nim, dans sa variante misère, popularisé dans le film d'Alain Resnais \"L'Année dernière à Marienbad\".<br>\n",
    "![](http://www.pilefacebis.com/sollers/IMG/jpg/marienbad_table_jeu.jpg)\n",
    "On a 4 tas composés au départ de 1, 3, 5 et 7 allumettes. Chaque joueur peut, l'un après l'autre, prendre autant d'allumettes qu'il le veut, mais dans un tas seulement.<br>\n",
    "La variante misère impose que celui qui prend la dernière allumette ait perdu&nbsp;!"
   ]
  },
  {
   "cell_type": "markdown",
   "id": "de1dfffd",
   "metadata": {
    "deletable": false,
    "editable": false,
    "nbgrader": {
     "cell_type": "markdown",
     "checksum": "69a803f7cfa08779fe080b983f51683c",
     "grade": false,
     "grade_id": "cell-5c103445a801c318",
     "locked": true,
     "schema_version": 3,
     "solution": false,
     "task": false
    }
   },
   "source": [
    "Composez le graphe du jeu que vous appelerez `G3`. Chaque sommet prendra la forme d'un tuple de 5 entiers (les 4 premiers correspondent aux nombres d'allumettes dans les 4 tas et le 5<sup>e</sup> est le numéro du joueur (0 pour Eve et 1 pour Adam).<br>\n",
    "La position de départ est alors `(1,3,5,7,0)`. "
   ]
  },
  {
   "cell_type": "code",
   "execution_count": null,
   "id": "97f44b38",
   "metadata": {
    "deletable": false,
    "nbgrader": {
     "cell_type": "code",
     "checksum": "889de4f3fc248d1c856c756f53e2cc87",
     "grade": false,
     "grade_id": "cell-8bda5fb3f14903d9",
     "locked": false,
     "schema_version": 3,
     "solution": true,
     "task": false
    }
   },
   "outputs": [],
   "source": [
    "# VOTRE CODE"
   ]
  },
  {
   "cell_type": "code",
   "execution_count": null,
   "id": "91fdb61a",
   "metadata": {
    "deletable": false,
    "editable": false,
    "nbgrader": {
     "cell_type": "code",
     "checksum": "c4573252b287a2d7c68f065ae0b6bbd4",
     "grade": true,
     "grade_id": "cell-c6ab725f01e5ffcb",
     "locked": true,
     "points": 1,
     "schema_version": 3,
     "solution": false,
     "task": false
    }
   },
   "outputs": [],
   "source": [
    "# Cellule d'évaluation, ne pas modifier"
   ]
  },
  {
   "cell_type": "markdown",
   "id": "3166379e",
   "metadata": {
    "deletable": false,
    "editable": false,
    "nbgrader": {
     "cell_type": "markdown",
     "checksum": "f6bbff26a40934ad4ec28a7e6f4aa0cf",
     "grade": false,
     "grade_id": "cell-6883fd97d97e2c0d",
     "locked": true,
     "schema_version": 3,
     "solution": false,
     "task": false
    }
   },
   "source": [
    "La position de départ est-elle gagnante pour le joueur 1 (Eve)&nbsp;?"
   ]
  },
  {
   "cell_type": "code",
   "execution_count": null,
   "id": "a06493be",
   "metadata": {},
   "outputs": [],
   "source": [
    "# Affectez à la variable Marienbad la chaîne de caractères 'OUI' ou 'NON'.\n",
    "\n",
    "Marienbad = 'IDK'"
   ]
  },
  {
   "cell_type": "code",
   "execution_count": null,
   "id": "c2b01931",
   "metadata": {
    "deletable": false,
    "editable": false,
    "nbgrader": {
     "cell_type": "code",
     "checksum": "59f9e04952961152e7c81ae09e197f9c",
     "grade": true,
     "grade_id": "cell-fa75151baf73e183",
     "locked": true,
     "points": 1,
     "schema_version": 3,
     "solution": false,
     "task": false
    }
   },
   "outputs": [],
   "source": [
    "# Cellule d'évaluation, ne pas modifier"
   ]
  },
  {
   "cell_type": "markdown",
   "id": "3346011f",
   "metadata": {
    "deletable": false,
    "editable": false,
    "nbgrader": {
     "cell_type": "markdown",
     "checksum": "e02b1682d4f3d75b449379e2d23c3000",
     "grade": false,
     "grade_id": "cell-7527f9a9501dbf21",
     "locked": true,
     "schema_version": 3,
     "solution": false,
     "task": false
    }
   },
   "source": [
    "La vidéo ci-dessous présente plus généralements les jeux de Nim. Ils ont la particularité d'avoir une stratégie (due à M. Bouton) ne nécessitant pas le parcours du graphe théoriquement généralisable à tout jeu impartial."
   ]
  },
  {
   "cell_type": "code",
   "execution_count": null,
   "id": "a971cd3c",
   "metadata": {},
   "outputs": [],
   "source": [
    "from IPython.display import YouTubeVideo\n",
    "YouTubeVideo('2jahbr5wMHk')"
   ]
  },
  {
   "cell_type": "markdown",
   "id": "827b08c3",
   "metadata": {
    "deletable": false,
    "editable": false,
    "nbgrader": {
     "cell_type": "markdown",
     "checksum": "14c15a08ee082a8971a85ee76ce7a943",
     "grade": false,
     "grade_id": "cell-a8978de4a118c277",
     "locked": true,
     "schema_version": 3,
     "solution": false,
     "task": false
    }
   },
   "source": [
    "Occupons-nous enfin du problème du sac-à-dos.<br>\n",
    "Dans le code du cours, il manque à nouveau la définition d'une fonction&nbsp;: `sacadosGlouton`.<br>\n",
    "À vous de construire cette fonction qui donne la valeur du sac en suivant la logique gloutonne (et on s'arrêtera au premier objet qui fait dépasser la capacité du sac)."
   ]
  },
  {
   "cell_type": "code",
   "execution_count": null,
   "id": "3fd521fa",
   "metadata": {
    "deletable": false,
    "nbgrader": {
     "cell_type": "code",
     "checksum": "77ee5dd0e92f9173ae9c066b91173c4f",
     "grade": false,
     "grade_id": "cell-4d44708b7a7514c3",
     "locked": false,
     "schema_version": 3,
     "solution": true,
     "task": false
    }
   },
   "outputs": [],
   "source": [
    "def sacadosGlouton(v: list,p: list,c: int) -> int:\n",
    "    # VOTRE CODE"
   ]
  },
  {
   "cell_type": "code",
   "execution_count": null,
   "id": "40fa88ff",
   "metadata": {
    "deletable": false,
    "editable": false,
    "nbgrader": {
     "cell_type": "code",
     "checksum": "3e88eeb3204b47c6abce0027938d6ec8",
     "grade": true,
     "grade_id": "cell-61cf11f1f659cccc",
     "locked": true,
     "points": 1,
     "schema_version": 3,
     "solution": false,
     "task": false
    }
   },
   "outputs": [],
   "source": [
    "# Cellule d'évaluation, ne pas modifier"
   ]
  },
  {
   "cell_type": "markdown",
   "id": "ddeb787f",
   "metadata": {},
   "source": [
    "Utiliser ensuite votre fonction et le code du cours pour déterminer la valeur du sac si $v=[1,2,\\ldots,200]$, $p=[400,298,296,\\ldots,2]$ et $c=156$ (ce nombre d'objets rend la méthode par force brute totalement inutile).<br>\n",
    "Déterminez aussi (grâce à une variable globale) le nombre d'appels récursifs passés."
   ]
  },
  {
   "cell_type": "code",
   "execution_count": null,
   "id": "40a27950",
   "metadata": {},
   "outputs": [],
   "source": [
    "# petite aide : la liste \"potentiel\" à utiliser dans sacadosBB\n",
    "potentiel = [sum(v[i:]) for i in range(len(v))]"
   ]
  },
  {
   "cell_type": "code",
   "execution_count": null,
   "id": "c90cca1b",
   "metadata": {},
   "outputs": [],
   "source": [
    "# Affectez la valeur du sac (un entier) à la variable val_sac\n",
    "# Et affectez le nombre d'appels récursifs (aussi un entier) à la variable nb_appels\n",
    "\n",
    "val_sac = 0\n",
    "nb_appels = 0"
   ]
  },
  {
   "cell_type": "code",
   "execution_count": null,
   "id": "08e1b867",
   "metadata": {
    "deletable": false,
    "editable": false,
    "nbgrader": {
     "cell_type": "code",
     "checksum": "8335c44229b78a9daeab56e8ed1aa07c",
     "grade": true,
     "grade_id": "cell-c05fcea84bb1931a",
     "locked": true,
     "points": 1,
     "schema_version": 3,
     "solution": false,
     "task": false
    }
   },
   "outputs": [],
   "source": [
    "# Cellule d'évaluation, ne pas modifier"
   ]
  }
 ],
 "metadata": {
  "kernelspec": {
   "display_name": "Python 3",
   "language": "python",
   "name": "python3"
  },
  "language_info": {
   "codemirror_mode": {
    "name": "ipython",
    "version": 3
   },
   "file_extension": ".py",
   "mimetype": "text/x-python",
   "name": "python",
   "nbconvert_exporter": "python",
   "pygments_lexer": "ipython3",
   "version": "3.8.13"
  }
 },
 "nbformat": 4,
 "nbformat_minor": 5
}
